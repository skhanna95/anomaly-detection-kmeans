{
  "nbformat": 4,
  "nbformat_minor": 0,
  "metadata": {
    "colab": {
      "name": "blog.ipynb",
      "version": "0.3.2",
      "provenance": [],
      "collapsed_sections": []
    },
    "kernelspec": {
      "name": "python3",
      "display_name": "Python 3"
    }
  },
  "cells": [
    {
      "metadata": {
        "id": "B1g8NozGO2ai",
        "colab_type": "code",
        "colab": {}
      },
      "cell_type": "code",
      "source": [
        "%matplotlib inline"
      ],
      "execution_count": 0,
      "outputs": []
    },
    {
      "metadata": {
        "id": "GvqdeAgVPM3U",
        "colab_type": "code",
        "colab": {}
      },
      "cell_type": "code",
      "source": [
        "from sklearn.datasets import make_blobs\n",
        "import matplotlib.pyplot as plt\n",
        "import numpy as np\n",
        "X, label_cluster = make_blobs(100, centers = 1)"
      ],
      "execution_count": 0,
      "outputs": []
    },
    {
      "metadata": {
        "id": "XiO0bli4POAL",
        "colab_type": "code",
        "outputId": "9fd656a9-aba9-4cc1-ae96-974fe5facd04",
        "colab": {
          "base_uri": "https://localhost:8080/",
          "height": 265
        }
      },
      "cell_type": "code",
      "source": [
        "plt.scatter(X[:, 0], X[:, 1], s=50);"
      ],
      "execution_count": 3,
      "outputs": [
        {
          "output_type": "display_data",
          "data": {
            "image/png": "[encoded data removed]",
            "text/plain": [
              "<Figure size 432x288 with 1 Axes>"
            ]
          },
          "metadata": {
            "tags": []
          }
        }
      ]
    },
    {
      "metadata": {
        "id": "XzjUUjbHPQyS",
        "colab_type": "code",
        "outputId": "e3085527-81dc-4813-99f3-c6ac437da501",
        "colab": {
          "base_uri": "https://localhost:8080/",
          "height": 71
        }
      },
      "cell_type": "code",
      "source": [
        "from sklearn.cluster import KMeans\n",
        "kmeans = KMeans(n_clusters=1)\n",
        "kmeans.fit(X)"
      ],
      "execution_count": 4,
      "outputs": [
        {
          "output_type": "execute_result",
          "data": {
            "text/plain": [
              "KMeans(algorithm='auto', copy_x=True, init='k-means++', max_iter=300,\n",
              "    n_clusters=1, n_init=10, n_jobs=None, precompute_distances='auto',\n",
              "    random_state=None, tol=0.0001, verbose=0)"
            ]
          },
          "metadata": {
            "tags": []
          },
          "execution_count": 4
        }
      ]
    },
    {
      "metadata": {
        "id": "fKqndRxHPW45",
        "colab_type": "code",
        "outputId": "f7a20a9d-e7ab-42a8-c6a8-48d0f6bd86f7",
        "colab": {
          "base_uri": "https://localhost:8080/",
          "height": 352
        }
      },
      "cell_type": "code",
      "source": [
        "f, ax = plt.subplots(figsize=(7,5))\n",
        "ax.set_title('Blob')\n",
        "ax.scatter(X[:, 0], X[:, 1], label='Points')\n",
        "ax.scatter(kmeans.cluster_centers_[:, 0],\n",
        "           kmeans.cluster_centers_[:, 1], label='Centroid',\n",
        "           color='r')\n",
        "ax.legend(loc='best')"
      ],
      "execution_count": 5,
      "outputs": [
        {
          "output_type": "execute_result",
          "data": {
            "text/plain": [
              "<matplotlib.legend.Legend at 0x7ff14823d048>"
            ]
          },
          "metadata": {
            "tags": []
          },
          "execution_count": 5
        },
        {
          "output_type": "display_data",
          "data": {
            "image/png": "[encoded data removed]",
            "text/plain": [
              "<Figure size 504x360 with 1 Axes>"
            ]
          },
          "metadata": {
            "tags": []
          }
        }
      ]
    },
    {
      "metadata": {
        "id": "w9S6RiSDPZwG",
        "colab_type": "code",
        "colab": {}
      },
      "cell_type": "code",
      "source": [
        "# identify the 10 closest points\n",
        "outlier_distances = kmeans.transform(X)"
      ],
      "execution_count": 0,
      "outputs": []
    },
    {
      "metadata": {
        "id": "CQuvBWdePb1E",
        "colab_type": "code",
        "colab": {}
      },
      "cell_type": "code",
      "source": [
        "# argsort returns an array of indexes which will sort the array\n",
        "# in ascending order. Reverse it with [::-1]\n",
        "indices = np.argsort(outlier_distances.ravel())[::-1][:10] #ravel Returns a contiguous flattened array which is needed for getting indices.\n",
        "\n",
        "\n"
      ],
      "execution_count": 0,
      "outputs": []
    },
    {
      "metadata": {
        "id": "4kOxCwKtPePF",
        "colab_type": "code",
        "outputId": "385555cc-37c0-4120-90ec-848c54f5684b",
        "colab": {
          "base_uri": "https://localhost:8080/",
          "height": 352
        }
      },
      "cell_type": "code",
      "source": [
        "f, ax = plt.subplots(figsize=(7,5))\n",
        "ax.set_title('Cluster')\n",
        "ax.scatter(X[:, 0], X[:, 1], label='Points')\n",
        "ax.scatter(kmeans.cluster_centers_[:, 0],\n",
        "           kmeans.cluster_centers_[:, 1],\n",
        "           label='Centroid', color='r')\n",
        "ax.scatter(X[indices][:, 0],\n",
        "           X[indices][:, 1],\n",
        "           label='Extreme Value', edgecolors='g',\n",
        "           facecolors='none', s=100)\n",
        "ax.legend(loc='best')"
      ],
      "execution_count": 8,
      "outputs": [
        {
          "output_type": "execute_result",
          "data": {
            "text/plain": [
              "<matplotlib.legend.Legend at 0x7ff148228e48>"
            ]
          },
          "metadata": {
            "tags": []
          },
          "execution_count": 8
        },
        {
          "output_type": "display_data",
          "data": {
            "image/png": "[encoded data removed]",
            "text/plain": [
              "<Figure size 504x360 with 1 Axes>"
            ]
          },
          "metadata": {
            "tags": []
          }
        }
      ]
    },
    {
      "metadata": {
        "id": "dBRvNBjjPg83",
        "colab_type": "code",
        "colab": {}
      },
      "cell_type": "code",
      "source": [
        "# simulating removing these outliers\n",
        "X_improved = np.delete(X, indices, axis=0)"
      ],
      "execution_count": 0,
      "outputs": []
    },
    {
      "metadata": {
        "id": "0gObJC5ZPjI-",
        "colab_type": "code",
        "outputId": "c3fe310e-bb3a-4939-c398-96c77afe1662",
        "colab": {
          "base_uri": "https://localhost:8080/",
          "height": 68
        }
      },
      "cell_type": "code",
      "source": [
        "# this causes the centroids to move slightly\n",
        "Kmeans_improved = KMeans(n_clusters=1)\n",
        "Kmeans_improved.fit(X_improved)"
      ],
      "execution_count": 10,
      "outputs": [
        {
          "output_type": "execute_result",
          "data": {
            "text/plain": [
              "KMeans(algorithm='auto', copy_x=True, init='k-means++', max_iter=300,\n",
              "    n_clusters=1, n_init=10, n_jobs=None, precompute_distances='auto',\n",
              "    random_state=None, tol=0.0001, verbose=0)"
            ]
          },
          "metadata": {
            "tags": []
          },
          "execution_count": 10
        }
      ]
    },
    {
      "metadata": {
        "id": "XckXfAZpPmBG",
        "colab_type": "code",
        "outputId": "923328cd-2459-4da7-cee6-cf15f8a50233",
        "colab": {
          "base_uri": "https://localhost:8080/",
          "height": 352
        }
      },
      "cell_type": "code",
      "source": [
        "f, ax = plt.subplots(figsize=(7,5))\n",
        "ax.set_title(\"Extreme Values Removed\")\n",
        "ax.scatter(X_improved[:, 0], X_improved[:, 1], label='Pruned Points')\n",
        "ax.scatter(kmeans.cluster_centers_[:, 0],\n",
        "           kmeans.cluster_centers_[:, 1],\n",
        "           label='Old Centroid',\n",
        "           color='r', s=80, alpha=.5)\n",
        "ax.scatter(Kmeans_improved.cluster_centers_[:, 0],\n",
        "           Kmeans_improved.cluster_centers_[:, 1],\n",
        "           label='New Centroid',\n",
        "           color='yellow', s=80, alpha=.5)\n",
        "ax.legend(loc='best')"
      ],
      "execution_count": 11,
      "outputs": [
        {
          "output_type": "execute_result",
          "data": {
            "text/plain": [
              "<matplotlib.legend.Legend at 0x7ff148193c18>"
            ]
          },
          "metadata": {
            "tags": []
          },
          "execution_count": 11
        },
        {
          "output_type": "display_data",
          "data": {
            "image/png": "[encoded data removed]",
            "text/plain": [
              "<Figure size 504x360 with 1 Axes>"
            ]
          },
          "metadata": {
            "tags": []
          }
        }
      ]
    },
    {
      "metadata": {
        "id": "1R90d9lNPokZ",
        "colab_type": "code",
        "outputId": "89c46359-6b1d-40a4-ad0b-061d2a1478ff",
        "colab": {
          "base_uri": "https://localhost:8080/",
          "height": 34
        }
      },
      "cell_type": "code",
      "source": [
        "# There is a fundamental connection between Gaussian distribution\n",
        "# and the KMeans clustering. Let's create an empirical Gaussian\n",
        "# based off the centroid and sample covariance matrix and look\n",
        "# at the probability of each point that we removed.\n",
        "# this will show that the points we removed were the least likely\n",
        "# to occur.\n",
        "from scipy import stats\n",
        "emp_dist = stats.multivariate_normal(kmeans.cluster_centers_.ravel())\n",
        "prob_indices = np.argsort(emp_dist.pdf(X))[:10]\n",
        "np.all(X[indices] == X[prob_indices])"
      ],
      "execution_count": 12,
      "outputs": [
        {
          "output_type": "execute_result",
          "data": {
            "text/plain": [
              "True"
            ]
          },
          "metadata": {
            "tags": []
          },
          "execution_count": 12
        }
      ]
    },
    {
      "metadata": {
        "id": "oArJtm7LPuax",
        "colab_type": "code",
        "outputId": "abc2c586-d8c4-4fc7-f251-8496e16c8de8",
        "colab": {
          "base_uri": "https://localhost:8080/",
          "height": 51
        }
      },
      "cell_type": "code",
      "source": [
        "print (kmeans.cluster_centers_)\n",
        "print (kmeans.cluster_centers_.ravel())\n",
        "\n"
      ],
      "execution_count": 13,
      "outputs": [
        {
          "output_type": "stream",
          "text": [
            "[[-8.97410245  5.50396649]]\n",
            "[-8.97410245  5.50396649]\n"
          ],
          "name": "stdout"
        }
      ]
    },
    {
      "metadata": {
        "id": "ttXnQPbNQc5c",
        "colab_type": "text"
      },
      "cell_type": "markdown",
      "source": [
        "let us take an example to see this"
      ]
    },
    {
      "metadata": {
        "id": "Relr1qnWRH7x",
        "colab_type": "text"
      },
      "cell_type": "markdown",
      "source": [
        "Here we will attempt to use k-means to try to identify similar digits without using the original label information; this might be similar to a first step in extracting meaning from a new dataset about which you don't have any a priori label information."
      ]
    },
    {
      "metadata": {
        "id": "VP53_F5TQa_f",
        "colab_type": "code",
        "outputId": "580badaa-6628-49e0-92b8-e50dc71b7282",
        "colab": {
          "base_uri": "https://localhost:8080/",
          "height": 34
        }
      },
      "cell_type": "code",
      "source": [
        "from sklearn.datasets import load_digits\n",
        "digits = load_digits()\n",
        "digits.data.shape"
      ],
      "execution_count": 14,
      "outputs": [
        {
          "output_type": "execute_result",
          "data": {
            "text/plain": [
              "(1797, 64)"
            ]
          },
          "metadata": {
            "tags": []
          },
          "execution_count": 14
        }
      ]
    },
    {
      "metadata": {
        "id": "N05trraFRP0K",
        "colab_type": "text"
      },
      "cell_type": "markdown",
      "source": [
        "The clustering can be performed as we did before:\n"
      ]
    },
    {
      "metadata": {
        "id": "fnEyTVYTQiH5",
        "colab_type": "code",
        "outputId": "0a52a967-9903-4622-fad4-d59fc426560f",
        "colab": {
          "base_uri": "https://localhost:8080/",
          "height": 34
        }
      },
      "cell_type": "code",
      "source": [
        "kmeans = KMeans(n_clusters=10, random_state=0)\n",
        "clusters = kmeans.fit_predict(digits.data)\n",
        "kmeans.cluster_centers_.shape"
      ],
      "execution_count": 15,
      "outputs": [
        {
          "output_type": "execute_result",
          "data": {
            "text/plain": [
              "(10, 64)"
            ]
          },
          "metadata": {
            "tags": []
          },
          "execution_count": 15
        }
      ]
    },
    {
      "metadata": {
        "id": "eoOQ6gGfRTvH",
        "colab_type": "text"
      },
      "cell_type": "markdown",
      "source": [
        "The result is 10 clusters in 64 dimensions. Notice that the cluster centers themselves are 64-dimensional points, and can themselves be interpreted as the \"typical\" digit within the cluster. Let's see what these cluster centers look like:"
      ]
    },
    {
      "metadata": {
        "id": "tkaqNQh-QlJV",
        "colab_type": "code",
        "outputId": "a1a7b44b-a6b6-4870-b257-a6e54e9da3aa",
        "colab": {
          "base_uri": "https://localhost:8080/",
          "height": 194
        }
      },
      "cell_type": "code",
      "source": [
        "fig, ax = plt.subplots(2, 5, figsize=(8, 3))\n",
        "centers = kmeans.cluster_centers_.reshape(10, 8, 8)\n",
        "for axi, center in zip(ax.flat, centers):\n",
        "    axi.set(xticks=[], yticks=[])\n",
        "    axi.imshow(center, interpolation='nearest', cmap=plt.cm.binary)"
      ],
      "execution_count": 16,
      "outputs": [
        {
          "output_type": "display_data",
          "data": {
            "image/png": "[encoded data removed]",
            "text/plain": [
              "<Figure size 576x216 with 10 Axes>"
            ]
          },
          "metadata": {
            "tags": []
          }
        }
      ]
    },
    {
      "metadata": {
        "id": "w6ZbVbvqRXmu",
        "colab_type": "text"
      },
      "cell_type": "markdown",
      "source": [
        "We see that even without the labels, KMeans is able to find clusters whose centers are recognizable digits, with perhaps the exception of 1 and 8.\n",
        "\n",
        "Because k-means knows nothing about the identity of the cluster, the 0–9 labels may be permuted. We can fix this by matching each learned cluster label with the true labels found in them:\n"
      ]
    },
    {
      "metadata": {
        "id": "nJvyXwb4QnvK",
        "colab_type": "code",
        "colab": {}
      },
      "cell_type": "code",
      "source": [
        "from scipy.stats import mode\n",
        "\n",
        "labels = np.zeros_like(clusters)\n",
        "for i in range(10):\n",
        "    mask = (clusters == i)\n",
        "    labels[mask] = mode(digits.target[mask])[0]"
      ],
      "execution_count": 0,
      "outputs": []
    },
    {
      "metadata": {
        "id": "j-lGyGwORblY",
        "colab_type": "text"
      },
      "cell_type": "markdown",
      "source": [
        "Now we can check how accurate our unsupervised clustering was in finding similar digits within the data:"
      ]
    },
    {
      "metadata": {
        "id": "fOe2NCV5Qqev",
        "colab_type": "code",
        "outputId": "7026876d-0f3d-4927-cf8f-c0914a6114c3",
        "colab": {
          "base_uri": "https://localhost:8080/",
          "height": 34
        }
      },
      "cell_type": "code",
      "source": [
        "from sklearn.metrics import accuracy_score\n",
        "accuracy_score(digits.target, labels)"
      ],
      "execution_count": 18,
      "outputs": [
        {
          "output_type": "execute_result",
          "data": {
            "text/plain": [
              "0.7935447968836951"
            ]
          },
          "metadata": {
            "tags": []
          },
          "execution_count": 18
        }
      ]
    },
    {
      "metadata": {
        "id": "oJAfW3H8RkAC",
        "colab_type": "text"
      },
      "cell_type": "markdown",
      "source": [
        "<font color=\"blue\" face=\"comic sans ms\">With just a simple k-means algorithm, we discovered the correct grouping for 80% of the input digits! Let's check the confusion matrix for this:</font>"
      ]
    },
    {
      "metadata": {
        "id": "EyQoaK4fQtkh",
        "colab_type": "code",
        "outputId": "fdc174d7-e174-486d-e3b6-12bf1da72f7e",
        "colab": {
          "base_uri": "https://localhost:8080/",
          "height": 361
        }
      },
      "cell_type": "code",
      "source": [
        "import seaborn as sns; sns.set()  # for plot styling\n",
        "from sklearn.metrics import confusion_matrix\n",
        "mat = confusion_matrix(digits.target, labels)\n",
        "sns.heatmap(mat.T, square=True, annot=True, fmt='d', cbar=False,\n",
        "            xticklabels=digits.target_names,\n",
        "            yticklabels=digits.target_names)\n",
        "plt.xlabel('true label')\n",
        "plt.ylabel('predicted label');\n",
        "\n"
      ],
      "execution_count": 19,
      "outputs": [
        {
          "output_type": "display_data",
          "data": {
            "image/png": "[encoded data removed]",
            "text/plain": [
              "<Figure size 576x396 with 1 Axes>"
            ]
          },
          "metadata": {
            "tags": []
          }
        }
      ]
    },
    {
      "metadata": {
        "id": "xJL0spU-Rw5n",
        "colab_type": "text"
      },
      "cell_type": "markdown",
      "source": [
        "As we might expect from the cluster centers we visualized before, the main point of confusion is between the eights and ones. But this still shows that using k-means, we can essentially build a digit classifier without reference to any known labels!"
      ]
    },
    {
      "metadata": {
        "id": "YaTj2kgkRyYh",
        "colab_type": "text"
      },
      "cell_type": "markdown",
      "source": [
        "We can use the t-distributed stochastic neighbor embedding (t-SNE) algorithm to pre-process the data before performing k-means. t-SNE is a nonlinear embedding algorithm that is particularly adept at preserving points within clusters. Let's see how it does:"
      ]
    },
    {
      "metadata": {
        "id": "gI7XBk23Q-p7",
        "colab_type": "code",
        "outputId": "4cc40308-db31-42be-98cf-c247b76a316d",
        "colab": {
          "base_uri": "https://localhost:8080/",
          "height": 34
        }
      },
      "cell_type": "code",
      "source": [
        "from sklearn.manifold import TSNE\n",
        "\n",
        "# Project the data: this step will take several seconds\n",
        "tsne = TSNE(n_components=2, init='random', random_state=0)\n",
        "digits_proj = tsne.fit_transform(digits.data)\n",
        "\n",
        "# Compute the clusters\n",
        "kmeans = KMeans(n_clusters=10, random_state=0)\n",
        "clusters = kmeans.fit_predict(digits_proj)\n",
        "\n",
        "# Permute the labels\n",
        "labels = np.zeros_like(clusters)\n",
        "for i in range(10):\n",
        "    mask = (clusters == i)\n",
        "    labels[mask] = mode(digits.target[mask])[0]\n",
        "\n",
        "# Compute the accuracy\n",
        "accuracy_score(digits.target, labels)"
      ],
      "execution_count": 20,
      "outputs": [
        {
          "output_type": "execute_result",
          "data": {
            "text/plain": [
              "0.9326655537006121"
            ]
          },
          "metadata": {
            "tags": []
          },
          "execution_count": 20
        }
      ]
    },
    {
      "metadata": {
        "id": "IXuaETZbQzi1",
        "colab_type": "code",
        "colab": {}
      },
      "cell_type": "code",
      "source": [
        ""
      ],
      "execution_count": 0,
      "outputs": []
    },
    {
      "metadata": {
        "id": "sKDi8EtuFhAG",
        "colab_type": "text"
      },
      "cell_type": "markdown",
      "source": [
        "93% accuracy is amazingly good!"
      ]
    },
    {
      "metadata": {
        "id": "NYAbgaKCFmJx",
        "colab_type": "code",
        "colab": {}
      },
      "cell_type": "code",
      "source": [
        ""
      ],
      "execution_count": 0,
      "outputs": []
    }
  ]
}